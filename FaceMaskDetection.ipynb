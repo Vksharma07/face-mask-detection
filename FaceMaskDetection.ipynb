{
 "cells": [
  {
   "cell_type": "code",
   "execution_count": 1,
   "metadata": {},
   "outputs": [
    {
     "name": "stdout",
     "output_type": "stream",
     "text": [
      "{'without_mask': 0, 'with_mask': 1}\n",
      "['without_mask', 'with_mask']\n",
      "[0, 1]\n"
     ]
    }
   ],
   "source": [
    "#file load\n",
    "import cv2,os\n",
    "\n",
    "data_path=r'C:\\Users\\anodk\\Downloads\\Real-Time-Face-Mask-Detection-main\\Real-Time-Face-Mask-Detection-main\\train'\n",
    "categories=os.listdir(data_path)\n",
    "labels=[i for i in range(len(categories))]\n",
    "\n",
    "label_dict=dict(zip(categories,labels)) #empty dictionary\n",
    "\n",
    "print(label_dict)\n",
    "print(categories)\n",
    "print(labels)"
   ]
  },
  {
   "cell_type": "code",
   "execution_count": 2,
   "metadata": {},
   "outputs": [],
   "source": [
    "# pip install opencv-python"
   ]
  },
  {
   "cell_type": "code",
   "execution_count": null,
   "metadata": {},
   "outputs": [],
   "source": []
  },
  {
   "cell_type": "code",
   "execution_count": 3,
   "metadata": {},
   "outputs": [
    {
     "name": "stdout",
     "output_type": "stream",
     "text": [
      "Exception: OpenCV(4.5.5) D:\\a\\opencv-python\\opencv-python\\opencv\\modules\\imgproc\\src\\color.cpp:182: error: (-215:Assertion failed) !_src.empty() in function 'cv::cvtColor'\n",
      "\n",
      "Exception: OpenCV(4.5.5) D:\\a\\opencv-python\\opencv-python\\opencv\\modules\\imgproc\\src\\color.cpp:182: error: (-215:Assertion failed) !_src.empty() in function 'cv::cvtColor'\n",
      "\n",
      "Exception: OpenCV(4.5.5) D:\\a\\opencv-python\\opencv-python\\opencv\\modules\\imgproc\\src\\color.cpp:182: error: (-215:Assertion failed) !_src.empty() in function 'cv::cvtColor'\n",
      "\n",
      "Exception: OpenCV(4.5.5) D:\\a\\opencv-python\\opencv-python\\opencv\\modules\\imgproc\\src\\color.cpp:182: error: (-215:Assertion failed) !_src.empty() in function 'cv::cvtColor'\n",
      "\n",
      "Exception: OpenCV(4.5.5) D:\\a\\opencv-python\\opencv-python\\opencv\\modules\\imgproc\\src\\color.cpp:182: error: (-215:Assertion failed) !_src.empty() in function 'cv::cvtColor'\n",
      "\n"
     ]
    }
   ],
   "source": [
    "img_size=100\n",
    "data=[]\n",
    "target=[]\n",
    "\n",
    "\n",
    "for category in categories:\n",
    "    folder_path=os.path.join(data_path,category)\n",
    "    #img_names=os.listdir(folder_path)/\n",
    "    \n",
    "    for img_name in os.listdir(folder_path):\n",
    "        img_path=os.path.join(folder_path,img_name)\n",
    "        img=cv2.imread(img_path)\n",
    "\n",
    "        try:\n",
    "            gray=cv2.cvtColor(img,cv2.COLOR_BGR2GRAY)           \n",
    "            #Coverting the image into gray scale\n",
    "            resized=cv2.resize(gray,(img_size,img_size))\n",
    "            #resizing the gray scale into 50x50, since we need a fixed common size for all the images in the dataset\n",
    "            data.append(resized)\n",
    "            target.append(label_dict[category])\n",
    "            #appending the image and the label(categorized) into the list (dataset)\n",
    "\n",
    "        except Exception as e:\n",
    "            print('Exception:',e)\n",
    "            #if any exception rasied, the exception will be printed here. And pass to the next image\n",
    "            \n"
   ]
  },
  {
   "cell_type": "code",
   "execution_count": 4,
   "metadata": {},
   "outputs": [],
   "source": [
    "\n",
    "import numpy as np\n",
    "\n",
    "data=np.array(data)/255.0\n",
    "data=np.reshape(data,(data.shape[0],img_size,img_size,1))\n",
    "target=np.array(target)\n",
    "\n",
    "from keras.utils import np_utils\n",
    "\n",
    "new_target=np_utils.to_categorical(target)"
   ]
  },
  {
   "cell_type": "code",
   "execution_count": 5,
   "metadata": {},
   "outputs": [],
   "source": [
    "np.save('data',data)\n",
    "np.save('target',new_target)\n",
    "data=np.load('data.npy')\n",
    "target=np.load('target.npy')\n",
    "\n",
    "#loading the save numpy arrays in the previous code"
   ]
  },
  {
   "cell_type": "code",
   "execution_count": 6,
   "metadata": {},
   "outputs": [],
   "source": [
    "from keras.models import Sequential\n",
    "from keras.layers import Dense,Activation,Flatten,Dropout\n",
    "from keras.layers import Conv2D,MaxPooling2D\n",
    "from keras.callbacks import ModelCheckpoint\n",
    "\n",
    "model=Sequential()\n",
    "\n",
    "model.add(Conv2D(32,(3,3),input_shape=data.shape[1:],padding = 'same'))\n",
    "model.add(Activation('relu'))\n",
    "model.add(MaxPooling2D(pool_size=(2,2)))\n",
    "#The first CNN layer followed by Relu and MaxPooling layers\n",
    "\n",
    "model.add(Conv2D(32,(3,3),padding = 'same'))\n",
    "model.add(Activation('relu'))\n",
    "model.add(MaxPooling2D(pool_size=(2,2)))\n",
    "#The second convolution layer followed by Relu and MaxPooling layers\n",
    "\n",
    "model.add(Conv2D(64,(3,3),padding = 'same'))\n",
    "model.add(Activation('relu'))\n",
    "model.add(MaxPooling2D(pool_size=(2,2)))\n",
    "\n",
    "model.add(Flatten())\n",
    "model.add(Dropout(0.5))\n",
    "#Flatten layer to stack the output convolutions from second convolution layer\n",
    "model.add(Dense(50,activation='relu'))\n",
    "#Dense layer of 64 neurons\n",
    "model.add(Dense(2,activation='softmax'))\n",
    "#The Final layer with two outputs for two categories\n",
    "\n",
    "model.compile(loss='categorical_crossentropy',optimizer='adam',metrics=['accuracy'])"
   ]
  },
  {
   "cell_type": "code",
   "execution_count": 7,
   "metadata": {},
   "outputs": [],
   "source": [
    "from sklearn.model_selection import train_test_split\n",
    "\n",
    "train_data,test_data,train_target,test_target=train_test_split(data,target,test_size=0.1)"
   ]
  },
  {
   "cell_type": "code",
   "execution_count": 8,
   "metadata": {},
   "outputs": [
    {
     "name": "stdout",
     "output_type": "stream",
     "text": [
      "Model: \"sequential\"\n",
      "_________________________________________________________________\n",
      " Layer (type)                Output Shape              Param #   \n",
      "=================================================================\n",
      " conv2d (Conv2D)             (None, 100, 100, 32)      320       \n",
      "                                                                 \n",
      " activation (Activation)     (None, 100, 100, 32)      0         \n",
      "                                                                 \n",
      " max_pooling2d (MaxPooling2D  (None, 50, 50, 32)       0         \n",
      " )                                                               \n",
      "                                                                 \n",
      " conv2d_1 (Conv2D)           (None, 50, 50, 32)        9248      \n",
      "                                                                 \n",
      " activation_1 (Activation)   (None, 50, 50, 32)        0         \n",
      "                                                                 \n",
      " max_pooling2d_1 (MaxPooling  (None, 25, 25, 32)       0         \n",
      " 2D)                                                             \n",
      "                                                                 \n",
      " conv2d_2 (Conv2D)           (None, 25, 25, 64)        18496     \n",
      "                                                                 \n",
      " activation_2 (Activation)   (None, 25, 25, 64)        0         \n",
      "                                                                 \n",
      " max_pooling2d_2 (MaxPooling  (None, 12, 12, 64)       0         \n",
      " 2D)                                                             \n",
      "                                                                 \n",
      " flatten (Flatten)           (None, 9216)              0         \n",
      "                                                                 \n",
      " dropout (Dropout)           (None, 9216)              0         \n",
      "                                                                 \n",
      " dense (Dense)               (None, 50)                460850    \n",
      "                                                                 \n",
      " dense_1 (Dense)             (None, 2)                 102       \n",
      "                                                                 \n",
      "=================================================================\n",
      "Total params: 489,016\n",
      "Trainable params: 489,016\n",
      "Non-trainable params: 0\n",
      "_________________________________________________________________\n"
     ]
    }
   ],
   "source": [
    "model.summary()"
   ]
  },
  {
   "cell_type": "code",
   "execution_count": 9,
   "metadata": {},
   "outputs": [
    {
     "name": "stdout",
     "output_type": "stream",
     "text": [
      "Epoch 1/15\n",
      "91/91 [==============================] - ETA: 0s - loss: 0.6343 - accuracy: 0.6366INFO:tensorflow:Assets written to: model-001.model\\assets\n",
      "91/91 [==============================] - 16s 174ms/step - loss: 0.6343 - accuracy: 0.6366 - val_loss: 0.5225 - val_accuracy: 0.7648\n",
      "Epoch 2/15\n",
      "91/91 [==============================] - ETA: 0s - loss: 0.5050 - accuracy: 0.7684INFO:tensorflow:Assets written to: model-002.model\\assets\n",
      "91/91 [==============================] - 14s 153ms/step - loss: 0.5050 - accuracy: 0.7684 - val_loss: 0.4018 - val_accuracy: 0.8267\n",
      "Epoch 3/15\n",
      "91/91 [==============================] - ETA: 0s - loss: 0.3741 - accuracy: 0.8297INFO:tensorflow:Assets written to: model-003.model\\assets\n",
      "91/91 [==============================] - 15s 166ms/step - loss: 0.3741 - accuracy: 0.8297 - val_loss: 0.2802 - val_accuracy: 0.8996\n",
      "Epoch 4/15\n",
      "91/91 [==============================] - ETA: 0s - loss: 0.2838 - accuracy: 0.8844INFO:tensorflow:Assets written to: model-004.model\\assets\n",
      "91/91 [==============================] - 15s 163ms/step - loss: 0.2838 - accuracy: 0.8844 - val_loss: 0.2351 - val_accuracy: 0.9051\n",
      "Epoch 5/15\n",
      "91/91 [==============================] - ETA: 0s - loss: 0.2272 - accuracy: 0.9088INFO:tensorflow:Assets written to: model-005.model\\assets\n",
      "91/91 [==============================] - 16s 172ms/step - loss: 0.2272 - accuracy: 0.9088 - val_loss: 0.2114 - val_accuracy: 0.9051\n",
      "Epoch 6/15\n",
      "91/91 [==============================] - ETA: 0s - loss: 0.2180 - accuracy: 0.9174INFO:tensorflow:Assets written to: model-006.model\\assets\n",
      "91/91 [==============================] - 17s 184ms/step - loss: 0.2180 - accuracy: 0.9174 - val_loss: 0.2088 - val_accuracy: 0.9230\n",
      "Epoch 7/15\n",
      "91/91 [==============================] - ETA: 0s - loss: 0.1870 - accuracy: 0.9264INFO:tensorflow:Assets written to: model-007.model\\assets\n",
      "91/91 [==============================] - 18s 198ms/step - loss: 0.1870 - accuracy: 0.9264 - val_loss: 0.1968 - val_accuracy: 0.9188\n",
      "Epoch 8/15\n",
      "91/91 [==============================] - 16s 174ms/step - loss: 0.1534 - accuracy: 0.9418 - val_loss: 0.2108 - val_accuracy: 0.9092\n",
      "Epoch 9/15\n",
      "91/91 [==============================] - ETA: 0s - loss: 0.1321 - accuracy: 0.9504INFO:tensorflow:Assets written to: model-009.model\\assets\n",
      "91/91 [==============================] - 17s 182ms/step - loss: 0.1321 - accuracy: 0.9504 - val_loss: 0.1802 - val_accuracy: 0.9271\n",
      "Epoch 10/15\n",
      "91/91 [==============================] - 15s 164ms/step - loss: 0.1103 - accuracy: 0.9535 - val_loss: 0.1888 - val_accuracy: 0.9285\n",
      "Epoch 11/15\n",
      "91/91 [==============================] - 15s 166ms/step - loss: 0.0920 - accuracy: 0.9642 - val_loss: 0.2102 - val_accuracy: 0.9216\n",
      "Epoch 12/15\n",
      "91/91 [==============================] - 15s 169ms/step - loss: 0.0847 - accuracy: 0.9683 - val_loss: 0.2130 - val_accuracy: 0.9216\n",
      "Epoch 13/15\n",
      "91/91 [==============================] - 16s 172ms/step - loss: 0.0804 - accuracy: 0.9718 - val_loss: 0.2293 - val_accuracy: 0.9216\n",
      "Epoch 14/15\n",
      "91/91 [==============================] - 16s 172ms/step - loss: 0.0715 - accuracy: 0.9742 - val_loss: 0.2052 - val_accuracy: 0.9298\n",
      "Epoch 15/15\n",
      "91/91 [==============================] - 16s 175ms/step - loss: 0.0553 - accuracy: 0.9807 - val_loss: 0.2710 - val_accuracy: 0.9092\n"
     ]
    }
   ],
   "source": [
    "checkpoint = ModelCheckpoint('model-{epoch:03d}.model',monitor='val_loss',verbose=0,save_best_only=True,mode='auto')\n",
    "history=model.fit(train_data,train_target,epochs=15,callbacks=[checkpoint],validation_split=0.2)"
   ]
  },
  {
   "cell_type": "code",
   "execution_count": 10,
   "metadata": {},
   "outputs": [
    {
     "data": {
      "image/png": "[encoded data removed]",
      "text/plain": [
       "<Figure size 432x288 with 1 Axes>"
      ]
     },
     "metadata": {
      "needs_background": "light"
     },
     "output_type": "display_data"
    }
   ],
   "source": [
    "from matplotlib import pyplot as plt\n",
    "\n",
    "plt.plot(history.history['loss'],'r',label='training loss')\n",
    "plt.plot(history.history['val_loss'],label='validation loss')\n",
    "plt.xlabel('# epochs')\n",
    "plt.ylabel('loss')\n",
    "plt.legend()\n",
    "plt.show()"
   ]
  },
  {
   "cell_type": "code",
   "execution_count": 11,
   "metadata": {},
   "outputs": [
    {
     "data": {
      "image/png": "[encoded data removed]",
      "text/plain": [
       "<Figure size 432x288 with 1 Axes>"
      ]
     },
     "metadata": {
      "needs_background": "light"
     },
     "output_type": "display_data"
    }
   ],
   "source": [
    "plt.plot(history.history['accuracy'],'r',label='training accuracy')\n",
    "plt.plot(history.history['val_accuracy'],label='validation accuracy')\n",
    "plt.xlabel('# epochs')\n",
    "plt.ylabel('loss')\n",
    "plt.legend()\n",
    "plt.show()\n"
   ]
  },
  {
   "cell_type": "code",
   "execution_count": 12,
   "metadata": {},
   "outputs": [
    {
     "name": "stdout",
     "output_type": "stream",
     "text": [
      "13/13 [==============================] - 0s 31ms/step - loss: 0.2577 - accuracy: 0.8985\n",
      "[0.2577195167541504, 0.8985148668289185]\n"
     ]
    }
   ],
   "source": [
    "print(model.evaluate(test_data,test_target))"
   ]
  },
  {
   "cell_type": "code",
   "execution_count": 13,
   "metadata": {},
   "outputs": [
    {
     "name": "stdout",
     "output_type": "stream",
     "text": [
      "(433, 327, 3)\n"
     ]
    }
   ],
   "source": [
    "# image detect krlo pehla\n",
    "import cv2 as cv\n",
    "\n",
    "img = cv.imread(r'C:\\Users\\anodk\\Downloads\\Real-Time-Face-Mask-Detection-main\\Real-Time-Face-Mask-Detection-main\\test\\with_mask\\31-with-mask.jpg')\n",
    "print(img.shape)  "
   ]
  },
  {
   "cell_type": "code",
   "execution_count": 14,
   "metadata": {},
   "outputs": [
    {
     "data": {
      "text/plain": [
       "-1"
      ]
     },
     "execution_count": 14,
     "metadata": {},
     "output_type": "execute_result"
    }
   ],
   "source": [
    "#image \n",
    "results={0:'without mask',1:'mask'}\n",
    "img_size = 100\n",
    "GR_dict={0:(0,0,255),1:(0,255,0)}\n",
    "import cv2 as cv\n",
    "import numpy as np\n",
    "gray = cv.cvtColor(img,cv.COLOR_BGR2GRAY)\n",
    "\n",
    "haarcascade = cv.CascadeClassifier(cv.data.haarcascades + \"haarcascade_frontalface_default.xml\")\n",
    "faces = haarcascade.detectMultiScale(gray, scaleFactor=1.2, minNeighbors=1)\n",
    "\n",
    "for (x,y,w,h) in faces:\n",
    "    faces_roi = gray[y:y+h,x:x+w]\n",
    "    \n",
    "    resized=cv.resize(faces_roi,(img_size,img_size))\n",
    "    d=np.array(resized)/255.0\n",
    "    #print(d.shape)\n",
    "    #data=np.array(faces_roi)/255.0\n",
    "    #d.append(resized)\n",
    "    data=np.reshape(d,(1,img_size,img_size,1))\n",
    "    \n",
    "    result=model.predict(data)\n",
    "    \n",
    "    label=np.argmax(result)\n",
    "    \n",
    "    cv.rectangle(img,(x,y),(x+w,y+h),GR_dict[label],2)\n",
    "    cv.putText(img, results[label], (x, y-10),cv.FONT_HERSHEY_SIMPLEX,0.8,(255,255,255),2)\n",
    "cv.imshow(\"Detected Image\",img)\n",
    "cv.waitKey(0)\n",
    "    \n",
    "\n",
    "    #resized=cv2.resize(gray,(img_size,img_size))\n",
    "            #resizing the gray scale into 50x50, since we need a fixed common size for all the images in the dataset\n",
    "     \n",
    "    #data.append(resized)\n"
   ]
  },
  {
   "cell_type": "code",
   "execution_count": 15,
   "metadata": {},
   "outputs": [],
   "source": [
    "#im saving this model as results are quite good\n",
    "model.save('mask_project_new.h5')"
   ]
  },
  {
   "cell_type": "code",
   "execution_count": 16,
   "metadata": {},
   "outputs": [],
   "source": [
    "#first\n",
    "import tensorflow as tf\n",
    "\n",
    "model = tf.keras.models.load_model('mask_project_new.h5')"
   ]
  },
  {
   "cell_type": "code",
   "execution_count": 17,
   "metadata": {},
   "outputs": [
    {
     "data": {
      "text/plain": [
       "'C:\\\\Users\\\\anodk\\\\Downloads\\\\Real-Time-Face-Mask-Detection-main\\\\Real-Time-Face-Mask-Detection-main'"
      ]
     },
     "execution_count": 17,
     "metadata": {},
     "output_type": "execute_result"
    }
   ],
   "source": [
    "os.getcwd()"
   ]
  },
  {
   "cell_type": "code",
   "execution_count": 18,
   "metadata": {},
   "outputs": [],
   "source": [
    "#second\n",
    "results={0:'without mask',1:'mask'}\n",
    "img_size = 100\n",
    "GR_dict={0:(0,0,255),1:(0,255,0)}\n",
    "import cv2 as cv\n",
    "import numpy as np\n",
    "capture = cv.VideoCapture(0)\n",
    "\n",
    "istrue=True\n",
    "\n",
    "while istrue:\n",
    "    \n",
    "    ret,img = capture.read()\n",
    "    \n",
    "    if(istrue == False):\n",
    "        break\n",
    "    gray = cv.cvtColor(img,cv.COLOR_BGR2GRAY)\n",
    "    gray = cv2.flip(gray,1)\n",
    "\n",
    "    haarcascade = cv.CascadeClassifier(cv.data.haarcascades + \"haarcascade_frontalface_default.xml\")\n",
    "    faces = haarcascade.detectMultiScale(gray, scaleFactor=1.2, minNeighbors=5)\n",
    "\n",
    "    for (x,y,w,h) in faces:\n",
    "        faces_roi = gray[y:y+h,x:x+w]\n",
    "    \n",
    "        resized=cv.resize(faces_roi,(img_size,img_size))\n",
    "        d=np.array(resized)/255.0\n",
    "    #print(d.shape)\n",
    "    #data=np.array(faces_roi)/255.0\n",
    "    #d.append(resized)\n",
    "        data=np.reshape(d,(1,img_size,img_size,1))\n",
    "    \n",
    "        result=model.predict(data)\n",
    "    \n",
    "        label=np.argmax(result)\n",
    "    \n",
    "        cv.rectangle(img,(x,y),(x+w,y+h),GR_dict[label],2)\n",
    "        cv.putText(img, results[label], (x, y-10),cv.FONT_HERSHEY_SIMPLEX,0.8,(255,255,255),2)\n",
    "    cv.imshow(\"Detected Image\",img)\n",
    "    if(cv.waitKey(20) & 0xff == ord('d')):\n",
    "        break\n",
    "    \n",
    "capture.release()\n",
    "cv.destroyAllWindows()\n",
    "    #cv.imshow(\"Video\",frame)\n",
    "    \n",
    "    #gray = cv.cvtColor(img,cv.COLOR_BGR2GRAY)\n",
    "#cv.imshow(\"Gray\",gray)\n",
    "    #haar_cascade = cv.CascadeClassifier(cv.data.haarcascades + \"haarcascade_frontalface_default.xml\")\n",
    "#haar_cascade = cv.CascadeClassifier('')\n",
    "\n",
    "\n",
    "#faces_rect = haar_cascade.detectMultiScale(gray,scaleFactor = 0,minNeighbors = 0 )\n",
    "\n",
    "    #faces_rect = haar_cascade.detectMultiScale(gray, scaleFactor=1.2, minNeighbors=4);\n",
    "\n",
    "    #for x,y,w,h in faces_rect:\n",
    "        #cv.rectangle(img, (x,y),(x+w,y+h),(0,255,0),2)\n",
    "    \n",
    "    #cv.imshow(\"Detected faces\",img)\n",
    "    \n",
    "    #if(cv.waitKey(20) & 0xff == ord('d')):\n",
    "        #break\n",
    "        \n",
    "    \n"
   ]
  },
  {
   "cell_type": "code",
   "execution_count": null,
   "metadata": {},
   "outputs": [],
   "source": []
  },
  {
   "cell_type": "code",
   "execution_count": null,
   "metadata": {},
   "outputs": [],
   "source": []
  },
  {
   "cell_type": "code",
   "execution_count": null,
   "metadata": {},
   "outputs": [],
   "source": []
  }
 ],
 "metadata": {
  "kernelspec": {
   "display_name": "Python 3 (ipykernel)",
   "language": "python",
   "name": "python3"
  },
  "language_info": {
   "codemirror_mode": {
    "name": "ipython",
    "version": 3
   },
   "file_extension": ".py",
   "mimetype": "text/x-python",
   "name": "python",
   "nbconvert_exporter": "python",
   "pygments_lexer": "ipython3",
   "version": "3.9.12"
  }
 },
 "nbformat": 4,
 "nbformat_minor": 4
}
